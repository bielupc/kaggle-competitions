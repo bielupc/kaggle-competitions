{
 "cells": [
  {
   "cell_type": "markdown",
   "id": "5fd20fc47394ae7",
   "metadata": {
    "collapsed": false
   },
   "source": [
    "# MNIST Digit Recognition"
   ]
  },
  {
   "cell_type": "markdown",
   "id": "1f7530e4dc282e9d",
   "metadata": {
    "collapsed": false
   },
   "source": [
    "## Imports"
   ]
  },
  {
   "cell_type": "code",
   "execution_count": 1,
   "id": "183532a3e8dfcc0d",
   "metadata": {
    "ExecuteTime": {
     "end_time": "2024-01-30T09:49:37.092193018Z",
     "start_time": "2024-01-30T09:49:36.887388526Z"
    },
    "collapsed": false
   },
   "outputs": [],
   "source": [
    "from sklearn.datasets import fetch_openml\n",
    "import matplotlib as mpl\n",
    "import matplotlib.pyplot as plt\n",
    "import numpy as np\n",
    "from sklearn.linear_model import SGDClassifier\n",
    "from sklearn.model_selection import cross_val_score\n",
    "from sklearn.model_selection import cross_val_predict\n",
    "from sklearn.metrics import confusion_matrix\n",
    "from sklearn.metrics import precision_score, recall_score, f1_score, precision_recall_curve, roc_curve\n",
    "from sklearn.metrics import roc_auc_score\n",
    "from sklearn.ensemble import RandomForestClassifier\n",
    "from sklearn.preprocessing import StandardScaler\n",
    "from sklearn.neighbors import KNeighborsClassifier\n",
    "import pickle"
   ]
  },
  {
   "cell_type": "markdown",
   "id": "519fc9c80d4aa72a",
   "metadata": {
    "collapsed": false
   },
   "source": [
    "## Read the dataset"
   ]
  },
  {
   "cell_type": "code",
   "execution_count": 2,
   "id": "ade64278a57f23ac",
   "metadata": {
    "ExecuteTime": {
     "end_time": "2024-01-30T09:49:40.456844344Z",
     "start_time": "2024-01-30T09:49:37.096862263Z"
    },
    "collapsed": false
   },
   "outputs": [],
   "source": [
    "mnist = fetch_openml('mnist_784', version=1, parser=\"auto\", as_frame=False)\n",
    "X, y = mnist[\"data\"], mnist[\"target\"]"
   ]
  },
  {
   "cell_type": "code",
   "execution_count": 3,
   "id": "c477cf40b5d4d246",
   "metadata": {
    "ExecuteTime": {
     "end_time": "2024-01-30T09:49:40.520202876Z",
     "start_time": "2024-01-30T09:49:40.497541413Z"
    },
    "collapsed": false
   },
   "outputs": [
    {
     "data": {
      "text/plain": [
       "array([[0, 0, 0, ..., 0, 0, 0],\n",
       "       [0, 0, 0, ..., 0, 0, 0],\n",
       "       [0, 0, 0, ..., 0, 0, 0],\n",
       "       ...,\n",
       "       [0, 0, 0, ..., 0, 0, 0],\n",
       "       [0, 0, 0, ..., 0, 0, 0],\n",
       "       [0, 0, 0, ..., 0, 0, 0]])"
      ]
     },
     "execution_count": 3,
     "metadata": {},
     "output_type": "execute_result"
    }
   ],
   "source": [
    "X"
   ]
  },
  {
   "cell_type": "code",
   "execution_count": 4,
   "id": "f7a5404acfbab800",
   "metadata": {
    "ExecuteTime": {
     "end_time": "2024-01-30T09:49:40.654189346Z",
     "start_time": "2024-01-30T09:49:40.498199984Z"
    },
    "collapsed": false
   },
   "outputs": [
    {
     "data": {
      "image/png": "[encoded data removed]",
      "text/plain": [
       "<Figure size 640x480 with 1 Axes>"
      ]
     },
     "metadata": {},
     "output_type": "display_data"
    }
   ],
   "source": [
    "digit = X[0]\n",
    "digit_image = digit.reshape(28, 28)\n",
    "plt.imshow(digit_image, cmap=\"binary\")\n",
    "plt.show()"
   ]
  },
  {
   "cell_type": "code",
   "execution_count": 5,
   "id": "62b255fafe0fbe17",
   "metadata": {
    "ExecuteTime": {
     "end_time": "2024-01-30T09:49:40.659570332Z",
     "start_time": "2024-01-30T09:49:40.654899693Z"
    },
    "collapsed": false
   },
   "outputs": [
    {
     "data": {
      "text/plain": [
       "'5'"
      ]
     },
     "execution_count": 5,
     "metadata": {},
     "output_type": "execute_result"
    }
   ],
   "source": [
    "y[0]"
   ]
  },
  {
   "cell_type": "code",
   "execution_count": 6,
   "id": "89a91de98aee8759",
   "metadata": {
    "ExecuteTime": {
     "end_time": "2024-01-30T09:49:40.674295573Z",
     "start_time": "2024-01-30T09:49:40.663322906Z"
    },
    "collapsed": false
   },
   "outputs": [],
   "source": [
    "y = y.astype(np.uint8)"
   ]
  },
  {
   "cell_type": "markdown",
   "id": "884ef9775c0c0095",
   "metadata": {
    "collapsed": false
   },
   "source": [
    "## Test split\n",
    "The dataset is already split 60.000 - 10.000"
   ]
  },
  {
   "cell_type": "code",
   "execution_count": 7,
   "id": "852165a6c6f9d0d",
   "metadata": {
    "ExecuteTime": {
     "end_time": "2024-01-30T09:49:40.676444158Z",
     "start_time": "2024-01-30T09:49:40.666851140Z"
    },
    "collapsed": false
   },
   "outputs": [],
   "source": [
    "X_train, X_test, y_train, y_test = X[:60000], X[60000:], y[:60000], y[60000:]"
   ]
  },
  {
   "cell_type": "markdown",
   "id": "85f219198abc3d5f",
   "metadata": {
    "collapsed": false
   },
   "source": [
    "## Binary Classifier\n",
    "5 detector"
   ]
  },
  {
   "cell_type": "code",
   "execution_count": 8,
   "id": "de340d0dcb008602",
   "metadata": {
    "ExecuteTime": {
     "end_time": "2024-01-30T09:49:54.288861531Z",
     "start_time": "2024-01-30T09:49:40.709592219Z"
    },
    "collapsed": false
   },
   "outputs": [
    {
     "data": {
      "text/html": [
       "<style>#sk-container-id-1 {color: black;}#sk-container-id-1 pre{padding: 0;}#sk-container-id-1 div.sk-toggleable {background-color: white;}#sk-container-id-1 label.sk-toggleable__label {cursor: pointer;display: block;width: 100%;margin-bottom: 0;padding: 0.3em;box-sizing: border-box;text-align: center;}#sk-container-id-1 label.sk-toggleable__label-arrow:before {content: \"▸\";float: left;margin-right: 0.25em;color: #696969;}#sk-container-id-1 label.sk-toggleable__label-arrow:hover:before {color: black;}#sk-container-id-1 div.sk-estimator:hover label.sk-toggleable__label-arrow:before {color: black;}#sk-container-id-1 div.sk-toggleable__content {max-height: 0;max-width: 0;overflow: hidden;text-align: left;background-color: #f0f8ff;}#sk-container-id-1 div.sk-toggleable__content pre {margin: 0.2em;color: black;border-radius: 0.25em;background-color: #f0f8ff;}#sk-container-id-1 input.sk-toggleable__control:checked~div.sk-toggleable__content {max-height: 200px;max-width: 100%;overflow: auto;}#sk-container-id-1 input.sk-toggleable__control:checked~label.sk-toggleable__label-arrow:before {content: \"▾\";}#sk-container-id-1 div.sk-estimator input.sk-toggleable__control:checked~label.sk-toggleable__label {background-color: #d4ebff;}#sk-container-id-1 div.sk-label input.sk-toggleable__control:checked~label.sk-toggleable__label {background-color: #d4ebff;}#sk-container-id-1 input.sk-hidden--visually {border: 0;clip: rect(1px 1px 1px 1px);clip: rect(1px, 1px, 1px, 1px);height: 1px;margin: -1px;overflow: hidden;padding: 0;position: absolute;width: 1px;}#sk-container-id-1 div.sk-estimator {font-family: monospace;background-color: #f0f8ff;border: 1px dotted black;border-radius: 0.25em;box-sizing: border-box;margin-bottom: 0.5em;}#sk-container-id-1 div.sk-estimator:hover {background-color: #d4ebff;}#sk-container-id-1 div.sk-parallel-item::after {content: \"\";width: 100%;border-bottom: 1px solid gray;flex-grow: 1;}#sk-container-id-1 div.sk-label:hover label.sk-toggleable__label {background-color: #d4ebff;}#sk-container-id-1 div.sk-serial::before {content: \"\";position: absolute;border-left: 1px solid gray;box-sizing: border-box;top: 0;bottom: 0;left: 50%;z-index: 0;}#sk-container-id-1 div.sk-serial {display: flex;flex-direction: column;align-items: center;background-color: white;padding-right: 0.2em;padding-left: 0.2em;position: relative;}#sk-container-id-1 div.sk-item {position: relative;z-index: 1;}#sk-container-id-1 div.sk-parallel {display: flex;align-items: stretch;justify-content: center;background-color: white;position: relative;}#sk-container-id-1 div.sk-item::before, #sk-container-id-1 div.sk-parallel-item::before {content: \"\";position: absolute;border-left: 1px solid gray;box-sizing: border-box;top: 0;bottom: 0;left: 50%;z-index: -1;}#sk-container-id-1 div.sk-parallel-item {display: flex;flex-direction: column;z-index: 1;position: relative;background-color: white;}#sk-container-id-1 div.sk-parallel-item:first-child::after {align-self: flex-end;width: 50%;}#sk-container-id-1 div.sk-parallel-item:last-child::after {align-self: flex-start;width: 50%;}#sk-container-id-1 div.sk-parallel-item:only-child::after {width: 0;}#sk-container-id-1 div.sk-dashed-wrapped {border: 1px dashed gray;margin: 0 0.4em 0.5em 0.4em;box-sizing: border-box;padding-bottom: 0.4em;background-color: white;}#sk-container-id-1 div.sk-label label {font-family: monospace;font-weight: bold;display: inline-block;line-height: 1.2em;}#sk-container-id-1 div.sk-label-container {text-align: center;}#sk-container-id-1 div.sk-container {/* jupyter's `normalize.less` sets `[hidden] { display: none; }` but bootstrap.min.css set `[hidden] { display: none !important; }` so we also need the `!important` here to be able to override the default hidden behavior on the sphinx rendered scikit-learn.org. See: https://github.com/scikit-learn/scikit-learn/issues/21755 */display: inline-block !important;position: relative;}#sk-container-id-1 div.sk-text-repr-fallback {display: none;}</style><div id=\"sk-container-id-1\" class=\"sk-top-container\"><div class=\"sk-text-repr-fallback\"><pre>SGDClassifier(random_state=42)</pre><b>In a Jupyter environment, please rerun this cell to show the HTML representation or trust the notebook. <br />On GitHub, the HTML representation is unable to render, please try loading this page with nbviewer.org.</b></div><div class=\"sk-container\" hidden><div class=\"sk-item\"><div class=\"sk-estimator sk-toggleable\"><input class=\"sk-toggleable__control sk-hidden--visually\" id=\"sk-estimator-id-1\" type=\"checkbox\" checked><label for=\"sk-estimator-id-1\" class=\"sk-toggleable__label sk-toggleable__label-arrow\">SGDClassifier</label><div class=\"sk-toggleable__content\"><pre>SGDClassifier(random_state=42)</pre></div></div></div></div></div>"
      ],
      "text/plain": [
       "SGDClassifier(random_state=42)"
      ]
     },
     "execution_count": 8,
     "metadata": {},
     "output_type": "execute_result"
    }
   ],
   "source": [
    "y_train_5 = (y_train == 5)\n",
    "y_test_5 = (y_test == 5)\n",
    "sgd = SGDClassifier(random_state=42)\n",
    "sgd.fit(X_train, y_train_5)"
   ]
  },
  {
   "cell_type": "code",
   "execution_count": 9,
   "id": "c7bd39cf2f191402",
   "metadata": {
    "ExecuteTime": {
     "end_time": "2024-01-30T09:49:54.293224662Z",
     "start_time": "2024-01-30T09:49:54.289512298Z"
    },
    "collapsed": false
   },
   "outputs": [
    {
     "data": {
      "text/plain": [
       "True"
      ]
     },
     "execution_count": 9,
     "metadata": {},
     "output_type": "execute_result"
    }
   ],
   "source": [
    "sgd.predict([digit])[0]"
   ]
  },
  {
   "cell_type": "code",
   "execution_count": 10,
   "id": "80d77d8a863713e5",
   "metadata": {
    "ExecuteTime": {
     "end_time": "2024-01-30T09:50:12.291720214Z",
     "start_time": "2024-01-30T09:49:54.294508263Z"
    },
    "collapsed": false
   },
   "outputs": [
    {
     "data": {
      "text/plain": [
       "array([0.95035, 0.96035, 0.9604 ])"
      ]
     },
     "execution_count": 10,
     "metadata": {},
     "output_type": "execute_result"
    }
   ],
   "source": [
    "cross_val_score(sgd, X_train, y_train_5, cv=3, scoring=\"accuracy\")"
   ]
  },
  {
   "cell_type": "markdown",
   "id": "3b10291e063bd2d5",
   "metadata": {
    "collapsed": false
   },
   "source": [
    "Only 10% of the images are 5's, always guessing the image is not a five would give a model accurate 90% of the times. Therefore, accuracy is not the preferred performance metric."
   ]
  },
  {
   "cell_type": "code",
   "execution_count": 11,
   "id": "e78ee8e68f6bd3d7",
   "metadata": {
    "ExecuteTime": {
     "end_time": "2024-01-30T09:50:30.197984973Z",
     "start_time": "2024-01-30T09:50:12.293369422Z"
    },
    "collapsed": false
   },
   "outputs": [],
   "source": [
    "y_train_pred = cross_val_predict(sgd, X_train, y_train_5, cv=3)"
   ]
  },
  {
   "cell_type": "code",
   "execution_count": 12,
   "id": "10f402f22eaaacd4",
   "metadata": {
    "ExecuteTime": {
     "end_time": "2024-01-30T09:50:30.244234699Z",
     "start_time": "2024-01-30T09:50:30.241673902Z"
    },
    "collapsed": false
   },
   "outputs": [
    {
     "data": {
      "text/plain": [
       "array([[53892,   687],\n",
       "       [ 1891,  3530]])"
      ]
     },
     "execution_count": 12,
     "metadata": {},
     "output_type": "execute_result"
    }
   ],
   "source": [
    "confusion_matrix(y_train_5, y_train_pred)"
   ]
  },
  {
   "cell_type": "markdown",
   "id": "51107e9934b11ec5",
   "metadata": {
    "collapsed": false
   },
   "source": [
    "\n",
    "| TN | FN |\n",
    "|----|----|\n",
    "| FP | TP |"
   ]
  },
  {
   "cell_type": "code",
   "execution_count": 13,
   "id": "43a521f2c3f7363d",
   "metadata": {
    "ExecuteTime": {
     "end_time": "2024-01-30T09:50:30.246896897Z",
     "start_time": "2024-01-30T09:50:30.242630454Z"
    },
    "collapsed": false
   },
   "outputs": [
    {
     "data": {
      "text/plain": [
       "0.8370879772350012"
      ]
     },
     "execution_count": 13,
     "metadata": {},
     "output_type": "execute_result"
    }
   ],
   "source": [
    "precision_score(y_train_5, y_train_pred)"
   ]
  },
  {
   "cell_type": "markdown",
   "id": "e8b17a31655d6014",
   "metadata": {
    "collapsed": false
   },
   "source": [
    "It's right 83% of the times."
   ]
  },
  {
   "cell_type": "code",
   "execution_count": 14,
   "id": "f6bde016ba5c0f24",
   "metadata": {
    "ExecuteTime": {
     "end_time": "2024-01-30T09:50:30.251332537Z",
     "start_time": "2024-01-30T09:50:30.243814783Z"
    },
    "collapsed": false
   },
   "outputs": [
    {
     "data": {
      "text/plain": [
       "0.6511713705958311"
      ]
     },
     "execution_count": 14,
     "metadata": {},
     "output_type": "execute_result"
    }
   ],
   "source": [
    "recall_score(y_train_5, y_train_pred)"
   ]
  },
  {
   "cell_type": "markdown",
   "id": "7df3ff5b85c56bbc",
   "metadata": {
    "collapsed": false
   },
   "source": [
    "It only detects 65% of he 5's"
   ]
  },
  {
   "cell_type": "code",
   "execution_count": 15,
   "id": "4721cb381e3649bc",
   "metadata": {
    "ExecuteTime": {
     "end_time": "2024-01-30T09:50:30.269051422Z",
     "start_time": "2024-01-30T09:50:30.244705291Z"
    },
    "collapsed": false
   },
   "outputs": [
    {
     "data": {
      "text/plain": [
       "0.7325171197343846"
      ]
     },
     "execution_count": 15,
     "metadata": {},
     "output_type": "execute_result"
    }
   ],
   "source": [
    "f1_score(y_train_5, y_train_pred)"
   ]
  },
  {
   "cell_type": "code",
   "execution_count": 16,
   "id": "215ccd042e6bbb4c",
   "metadata": {
    "ExecuteTime": {
     "end_time": "2024-01-30T09:50:30.279759964Z",
     "start_time": "2024-01-30T09:50:30.253414517Z"
    },
    "collapsed": false
   },
   "outputs": [
    {
     "data": {
      "text/plain": [
       "True"
      ]
     },
     "execution_count": 16,
     "metadata": {},
     "output_type": "execute_result"
    }
   ],
   "source": [
    "y_score = sgd.decision_function([digit])\n",
    "threshold = 0\n",
    "y_pred = y_score > threshold\n",
    "y_pred[0]"
   ]
  },
  {
   "cell_type": "code",
   "execution_count": 17,
   "id": "6604b4f3f5f49342",
   "metadata": {
    "ExecuteTime": {
     "end_time": "2024-01-30T09:50:47.646769920Z",
     "start_time": "2024-01-30T09:50:30.258596906Z"
    },
    "collapsed": false
   },
   "outputs": [
    {
     "data": {
      "image/png": "[encoded data removed]",
      "text/plain": [
       "<Figure size 640x480 with 1 Axes>"
      ]
     },
     "metadata": {},
     "output_type": "display_data"
    }
   ],
   "source": [
    "y_scores = cross_val_predict(sgd, X_train, y_train_5, cv=3, method=\"decision_function\")\n",
    "precisions, recalls, thresholds = precision_recall_curve(y_train_5, y_scores)\n",
    "plt.plot(thresholds, precisions[:-1], \"b--\", label=\"Precision\")\n",
    "plt.plot(thresholds, recalls[:-1], \"g-\", label=\"Recall\")\n",
    "plt.show()"
   ]
  },
  {
   "cell_type": "code",
   "execution_count": 18,
   "id": "757c7a88c59b7a9c",
   "metadata": {
    "ExecuteTime": {
     "end_time": "2024-01-30T09:50:47.649644549Z",
     "start_time": "2024-01-30T09:50:47.645966654Z"
    },
    "collapsed": false
   },
   "outputs": [],
   "source": [
    "threshold_90_precision = thresholds[np.argmax(precisions > 0.90)]\n",
    "y_pred_90 = (y_scores >= threshold_90_precision)"
   ]
  },
  {
   "cell_type": "code",
   "execution_count": 19,
   "id": "1017f9465336662a",
   "metadata": {
    "ExecuteTime": {
     "end_time": "2024-01-30T09:50:47.712885991Z",
     "start_time": "2024-01-30T09:50:47.648994520Z"
    },
    "collapsed": false
   },
   "outputs": [
    {
     "data": {
      "text/plain": [
       "0.9000345901072293"
      ]
     },
     "execution_count": 19,
     "metadata": {},
     "output_type": "execute_result"
    }
   ],
   "source": [
    "precision_score(y_train_5, y_pred_90)"
   ]
  },
  {
   "cell_type": "code",
   "execution_count": 20,
   "id": "15176436e60e6c6e",
   "metadata": {
    "ExecuteTime": {
     "end_time": "2024-01-30T09:50:47.714817121Z",
     "start_time": "2024-01-30T09:50:47.689653510Z"
    },
    "collapsed": false
   },
   "outputs": [
    {
     "data": {
      "text/plain": [
       "0.4799852425751706"
      ]
     },
     "execution_count": 20,
     "metadata": {},
     "output_type": "execute_result"
    }
   ],
   "source": [
    "recall_score(y_train_5, y_pred_90)"
   ]
  },
  {
   "cell_type": "code",
   "execution_count": 21,
   "id": "2a5299dc596fa683",
   "metadata": {
    "ExecuteTime": {
     "end_time": "2024-01-30T09:50:47.850433839Z",
     "start_time": "2024-01-30T09:50:47.690534902Z"
    },
    "collapsed": false
   },
   "outputs": [
    {
     "data": {
      "image/png": "[encoded data removed]",
      "text/plain": [
       "<Figure size 640x480 with 1 Axes>"
      ]
     },
     "metadata": {},
     "output_type": "display_data"
    }
   ],
   "source": [
    "fpr, tpr, thresholds = roc_curve(y_train_5, y_scores)\n",
    "plt.xlabel(\"FP RATE\")\n",
    "plt.ylabel(\"TP RATE\")\n",
    "plt.plot(fpr, tpr, linewidth=2)\n",
    "plt.show()"
   ]
  },
  {
   "cell_type": "code",
   "execution_count": 22,
   "id": "c48fe225290c70ff",
   "metadata": {
    "ExecuteTime": {
     "end_time": "2024-01-30T09:50:47.853487443Z",
     "start_time": "2024-01-30T09:50:47.821871406Z"
    },
    "collapsed": false
   },
   "outputs": [
    {
     "data": {
      "text/plain": [
       "0.9604938554008616"
      ]
     },
     "execution_count": 22,
     "metadata": {},
     "output_type": "execute_result"
    }
   ],
   "source": [
    "roc_auc_score(y_train_5, y_scores)"
   ]
  },
  {
   "cell_type": "code",
   "execution_count": 23,
   "id": "a4a4c30149148a5d",
   "metadata": {
    "ExecuteTime": {
     "end_time": "2024-01-30T09:51:36.870731330Z",
     "start_time": "2024-01-30T09:50:47.822848587Z"
    },
    "collapsed": false
   },
   "outputs": [],
   "source": [
    "forest = RandomForestClassifier(random_state=42)\n",
    "y_probas_forest = cross_val_predict(forest, X_train, y_train_5, cv=3, method=\"predict_proba\")"
   ]
  },
  {
   "cell_type": "code",
   "execution_count": 24,
   "id": "43f1c97a610c44d8",
   "metadata": {
    "ExecuteTime": {
     "end_time": "2024-01-30T09:51:37.035662223Z",
     "start_time": "2024-01-30T09:51:36.913515765Z"
    },
    "collapsed": false
   },
   "outputs": [
    {
     "data": {
      "image/png": "[encoded data removed]",
      "text/plain": [
       "<Figure size 640x480 with 1 Axes>"
      ]
     },
     "metadata": {},
     "output_type": "display_data"
    }
   ],
   "source": [
    "y_scores_forest = y_probas_forest[:, 1]\n",
    "fpr_forest, tpr_forest, thresholds_forest = roc_curve(y_train_5, y_scores_forest)\n",
    "plt.plot(fpr, tpr, \"b:\", label=\"SGD\")\n",
    "plt.plot(fpr_forest, tpr_forest, label=\"RandomForest\")\n",
    "plt.legend(loc = \"lower right\")\n",
    "plt.show()"
   ]
  },
  {
   "cell_type": "code",
   "execution_count": 25,
   "id": "87de3a80661d64b8",
   "metadata": {
    "ExecuteTime": {
     "end_time": "2024-01-30T09:51:37.038336213Z",
     "start_time": "2024-01-30T09:51:37.013654098Z"
    },
    "collapsed": false
   },
   "outputs": [
    {
     "data": {
      "text/plain": [
       "0.9983436731328145"
      ]
     },
     "execution_count": 25,
     "metadata": {},
     "output_type": "execute_result"
    }
   ],
   "source": [
    "roc_auc_score(y_train_5, y_scores_forest)\n"
   ]
  },
  {
   "cell_type": "markdown",
   "id": "56127a8b4e3c624a",
   "metadata": {
    "collapsed": false
   },
   "source": [
    "## Multiclass Classification"
   ]
  },
  {
   "cell_type": "code",
   "execution_count": 26,
   "id": "cbf2fad9a92375b4",
   "metadata": {
    "ExecuteTime": {
     "end_time": "2024-01-30T09:59:12.838252365Z",
     "start_time": "2024-01-30T09:51:37.014792255Z"
    },
    "collapsed": false
   },
   "outputs": [
    {
     "data": {
      "text/plain": [
       "array([0.8983, 0.891 , 0.9018])"
      ]
     },
     "execution_count": 26,
     "metadata": {},
     "output_type": "execute_result"
    }
   ],
   "source": [
    "scaler = StandardScaler()\n",
    "X_train_scaled = scaler.fit_transform(X_train.astype(np.float64))\n",
    "cross_val_score(sgd, X_train_scaled, y_train, cv=3, scoring=\"accuracy\", n_jobs=1)"
   ]
  },
  {
   "cell_type": "code",
   "execution_count": 27,
   "id": "410d68441f2f0315",
   "metadata": {
    "ExecuteTime": {
     "end_time": "2024-01-30T10:07:03.097356612Z",
     "start_time": "2024-01-30T09:59:12.839678652Z"
    },
    "collapsed": false
   },
   "outputs": [
    {
     "data": {
      "image/png": "[encoded data removed]",
      "text/plain": [
       "<Figure size 480x480 with 1 Axes>"
      ]
     },
     "metadata": {},
     "output_type": "display_data"
    }
   ],
   "source": [
    "y_train_preds = cross_val_predict(sgd, X_train_scaled, y_train, cv=3, n_jobs=1)\n",
    "confusion_matrix = confusion_matrix(y_train, y_train_preds)\n",
    "plt.matshow(confusion_matrix, cmap=plt.cm.gray)\n",
    "plt.show()"
   ]
  },
  {
   "cell_type": "code",
   "execution_count": 28,
   "id": "95ecab86f0413397",
   "metadata": {
    "ExecuteTime": {
     "end_time": "2024-01-30T10:07:03.266424829Z",
     "start_time": "2024-01-30T10:07:03.113315569Z"
    },
    "collapsed": false
   },
   "outputs": [
    {
     "data": {
      "image/png": "[encoded data removed]",
      "text/plain": [
       "<Figure size 480x480 with 1 Axes>"
      ]
     },
     "metadata": {},
     "output_type": "display_data"
    }
   ],
   "source": [
    "row_sums = confusion_matrix.sum(axis=1, keepdims=True)\n",
    "norm_confusion_matrix = confusion_matrix / row_sums\n",
    "np.fill_diagonal(norm_confusion_matrix, 0)\n",
    "plt.matshow(norm_confusion_matrix, cmap=plt.cm.gray)\n",
    "plt.show()"
   ]
  },
  {
   "cell_type": "markdown",
   "id": "cf39262e6c8e468e",
   "metadata": {
    "collapsed": false
   },
   "source": [
    "3's an 5's confused both ways and many digits get misclassified as 8 even though 8 gets mostly classified correctly."
   ]
  },
  {
   "cell_type": "markdown",
   "id": "ba8c4896744a6db3",
   "metadata": {
    "collapsed": false
   },
   "source": [
    "## Multilabel Classification"
   ]
  },
  {
   "cell_type": "code",
   "execution_count": 29,
   "id": "f8254ee2bd54ba62",
   "metadata": {
    "ExecuteTime": {
     "end_time": "2024-01-30T10:07:03.503692590Z",
     "start_time": "2024-01-30T10:07:03.223549586Z"
    },
    "collapsed": false
   },
   "outputs": [
    {
     "data": {
      "text/plain": [
       "array([[False,  True]])"
      ]
     },
     "execution_count": 29,
     "metadata": {},
     "output_type": "execute_result"
    }
   ],
   "source": [
    "y_train_large = (y_train >= 7)\n",
    "y_train_odd = (y_train % 2 == 1)\n",
    "y_multilabel = np.c_[y_train_large, y_train_odd]\n",
    "\n",
    "knn = KNeighborsClassifier()\n",
    "knn.fit(X_train, y_multilabel)\n",
    "knn.predict([digit])"
   ]
  },
  {
   "cell_type": "markdown",
   "id": "4c28bc69e65ecf4c",
   "metadata": {
    "collapsed": false
   },
   "source": [
    "## Multioutput Classification"
   ]
  },
  {
   "cell_type": "code",
   "execution_count": 30,
   "id": "12e8095aaa9060e7",
   "metadata": {
    "ExecuteTime": {
     "end_time": "2024-01-30T10:07:04.042135896Z",
     "start_time": "2024-01-30T10:07:03.505972087Z"
    },
    "collapsed": false
   },
   "outputs": [],
   "source": [
    "noise = np.random.randint(0, 100, (len(X_train), 784))\n",
    "X_train_mod = X_train + noise\n",
    "noise = np.random.randint(0, 100, (len(X_test), 784))\n",
    "X_test_mod = X_test + noise\n",
    "y_train_mod = X_train\n",
    "y_test_mod = X_test"
   ]
  },
  {
   "cell_type": "code",
   "execution_count": 31,
   "id": "40cd367c3d396835",
   "metadata": {
    "ExecuteTime": {
     "end_time": "2024-01-30T10:07:04.170531012Z",
     "start_time": "2024-01-30T10:07:04.063582064Z"
    },
    "collapsed": false
   },
   "outputs": [
    {
     "data": {
      "image/png": "[encoded data removed]",
      "text/plain": [
       "<Figure size 640x480 with 2 Axes>"
      ]
     },
     "metadata": {},
     "output_type": "display_data"
    }
   ],
   "source": [
    "\n",
    "plt.subplot(121); plt.imshow(X_test_mod[0].reshape(28, 28), cmap=\"binary\")\n",
    "plt.subplot(122); plt.imshow(y_test_mod[0].reshape(28, 28), cmap=\"binary\")\n",
    "plt.show()"
   ]
  },
  {
   "cell_type": "code",
   "execution_count": 32,
   "id": "40eb756c7c97e7b3",
   "metadata": {
    "ExecuteTime": {
     "end_time": "2024-01-30T10:07:08.185769080Z",
     "start_time": "2024-01-30T10:07:04.173070669Z"
    },
    "collapsed": false
   },
   "outputs": [
    {
     "data": {
      "image/png": "[encoded data removed]",
      "text/plain": [
       "<Figure size 640x480 with 1 Axes>"
      ]
     },
     "metadata": {},
     "output_type": "display_data"
    }
   ],
   "source": [
    "knn = KNeighborsClassifier()\n",
    "knn.fit(X_train_mod, y_train_mod)\n",
    "cleaned_digit = knn.predict([X_test_mod[0]])\n",
    "plt.imshow(cleaned_digit.reshape(28, 28), cmap=\"binary\")\n",
    "plt.show()"
   ]
  },
  {
   "cell_type": "markdown",
   "id": "889cb45e3cb5823e",
   "metadata": {
    "collapsed": false
   },
   "source": [
    "## Exercises"
   ]
  },
  {
   "cell_type": "code",
   "execution_count": 33,
   "id": "b35d7bbdaf71ca8a",
   "metadata": {
    "ExecuteTime": {
     "end_time": "2024-01-30T10:07:08.192134252Z",
     "start_time": "2024-01-30T10:07:08.189528691Z"
    },
    "collapsed": false
   },
   "outputs": [],
   "source": [
    "from sklearn.model_selection import GridSearchCV\n",
    "from sklearn.metrics import accuracy_score\n",
    "\n",
    "param_grid = {\n",
    "    \"n_neighbors\" : [3, 4, 5, 7],\n",
    "    \"weights\" : [\"uniform\", \"distance\"]\n",
    "}\n",
    "knn = KNeighborsClassifier()\n",
    "grid_search = GridSearchCV(knn, param_grid, cv=3, scoring=\"accuracy\", n_jobs=6)"
   ]
  },
  {
   "cell_type": "code",
   "execution_count": 34,
   "id": "d07fc0c6d20780ab",
   "metadata": {
    "ExecuteTime": {
     "end_time": "2024-01-30T10:14:58.103536096Z",
     "start_time": "2024-01-30T10:07:08.192788903Z"
    },
    "collapsed": false
   },
   "outputs": [
    {
     "data": {
      "text/plain": [
       "0.9714"
      ]
     },
     "execution_count": 34,
     "metadata": {},
     "output_type": "execute_result"
    }
   ],
   "source": [
    "grid_search.fit(X_train, y_train)\n",
    "knn_opt = grid_search.best_estimator_\n",
    "\n",
    "preds = knn_opt.predict(X_test)\n",
    "accuracy_score(preds, y_test)"
   ]
  },
  {
   "cell_type": "code",
   "execution_count": 35,
   "id": "d059b4a372fa5997",
   "metadata": {
    "ExecuteTime": {
     "end_time": "2024-01-30T10:15:17.488035968Z",
     "start_time": "2024-01-30T10:14:58.073488762Z"
    },
    "collapsed": false
   },
   "outputs": [],
   "source": [
    "from scipy.ndimage import shift\n",
    "\n",
    "def shift_digit(dx, dy, digit):\n",
    "    digit_image = digit.reshape(28, 28)\n",
    "    shifted_image = shift(digit_image, [dx, dy], cval=0)\n",
    "    return shifted_image.reshape([-1])\n",
    "\n",
    "X_train_extended = [digit for digit in X_train]\n",
    "y_train_extended = [digit for digit in y_train]\n",
    "\n",
    "for digit, label in zip(X_train, y_train):\n",
    "    for dx, dy in [(1, 0), (-1, 0), (0, 1), (0, -1)]:\n",
    "        X_train_extended.append(shift_digit(dx, dy, digit))\n",
    "        y_train_extended.append(label)"
   ]
  },
  {
   "cell_type": "code",
   "execution_count": 36,
   "id": "cb267092dff0f2e5",
   "metadata": {
    "ExecuteTime": {
     "end_time": "2024-01-30T10:15:18.548309095Z",
     "start_time": "2024-01-30T10:15:17.507840737Z"
    },
    "collapsed": false
   },
   "outputs": [],
   "source": [
    "X_train_extended = np.array(X_train_extended)\n",
    "y_train_extended = np.array(y_train_extended)\n",
    "\n",
    "shuffle_idx = np.random.permutation(len(X_train_extended))\n",
    "X_train_extended = X_train_extended[shuffle_idx]\n",
    "y_train_extended = y_train_extended[shuffle_idx]"
   ]
  },
  {
   "cell_type": "code",
   "execution_count": 37,
   "id": "fbefd36799cf0c25",
   "metadata": {
    "ExecuteTime": {
     "end_time": "2024-01-30T10:15:18.569734563Z",
     "start_time": "2024-01-30T10:15:18.549685736Z"
    },
    "collapsed": false
   },
   "outputs": [
    {
     "data": {
      "text/html": [
       "<style>#sk-container-id-2 {color: black;}#sk-container-id-2 pre{padding: 0;}#sk-container-id-2 div.sk-toggleable {background-color: white;}#sk-container-id-2 label.sk-toggleable__label {cursor: pointer;display: block;width: 100%;margin-bottom: 0;padding: 0.3em;box-sizing: border-box;text-align: center;}#sk-container-id-2 label.sk-toggleable__label-arrow:before {content: \"▸\";float: left;margin-right: 0.25em;color: #696969;}#sk-container-id-2 label.sk-toggleable__label-arrow:hover:before {color: black;}#sk-container-id-2 div.sk-estimator:hover label.sk-toggleable__label-arrow:before {color: black;}#sk-container-id-2 div.sk-toggleable__content {max-height: 0;max-width: 0;overflow: hidden;text-align: left;background-color: #f0f8ff;}#sk-container-id-2 div.sk-toggleable__content pre {margin: 0.2em;color: black;border-radius: 0.25em;background-color: #f0f8ff;}#sk-container-id-2 input.sk-toggleable__control:checked~div.sk-toggleable__content {max-height: 200px;max-width: 100%;overflow: auto;}#sk-container-id-2 input.sk-toggleable__control:checked~label.sk-toggleable__label-arrow:before {content: \"▾\";}#sk-container-id-2 div.sk-estimator input.sk-toggleable__control:checked~label.sk-toggleable__label {background-color: #d4ebff;}#sk-container-id-2 div.sk-label input.sk-toggleable__control:checked~label.sk-toggleable__label {background-color: #d4ebff;}#sk-container-id-2 input.sk-hidden--visually {border: 0;clip: rect(1px 1px 1px 1px);clip: rect(1px, 1px, 1px, 1px);height: 1px;margin: -1px;overflow: hidden;padding: 0;position: absolute;width: 1px;}#sk-container-id-2 div.sk-estimator {font-family: monospace;background-color: #f0f8ff;border: 1px dotted black;border-radius: 0.25em;box-sizing: border-box;margin-bottom: 0.5em;}#sk-container-id-2 div.sk-estimator:hover {background-color: #d4ebff;}#sk-container-id-2 div.sk-parallel-item::after {content: \"\";width: 100%;border-bottom: 1px solid gray;flex-grow: 1;}#sk-container-id-2 div.sk-label:hover label.sk-toggleable__label {background-color: #d4ebff;}#sk-container-id-2 div.sk-serial::before {content: \"\";position: absolute;border-left: 1px solid gray;box-sizing: border-box;top: 0;bottom: 0;left: 50%;z-index: 0;}#sk-container-id-2 div.sk-serial {display: flex;flex-direction: column;align-items: center;background-color: white;padding-right: 0.2em;padding-left: 0.2em;position: relative;}#sk-container-id-2 div.sk-item {position: relative;z-index: 1;}#sk-container-id-2 div.sk-parallel {display: flex;align-items: stretch;justify-content: center;background-color: white;position: relative;}#sk-container-id-2 div.sk-item::before, #sk-container-id-2 div.sk-parallel-item::before {content: \"\";position: absolute;border-left: 1px solid gray;box-sizing: border-box;top: 0;bottom: 0;left: 50%;z-index: -1;}#sk-container-id-2 div.sk-parallel-item {display: flex;flex-direction: column;z-index: 1;position: relative;background-color: white;}#sk-container-id-2 div.sk-parallel-item:first-child::after {align-self: flex-end;width: 50%;}#sk-container-id-2 div.sk-parallel-item:last-child::after {align-self: flex-start;width: 50%;}#sk-container-id-2 div.sk-parallel-item:only-child::after {width: 0;}#sk-container-id-2 div.sk-dashed-wrapped {border: 1px dashed gray;margin: 0 0.4em 0.5em 0.4em;box-sizing: border-box;padding-bottom: 0.4em;background-color: white;}#sk-container-id-2 div.sk-label label {font-family: monospace;font-weight: bold;display: inline-block;line-height: 1.2em;}#sk-container-id-2 div.sk-label-container {text-align: center;}#sk-container-id-2 div.sk-container {/* jupyter's `normalize.less` sets `[hidden] { display: none; }` but bootstrap.min.css set `[hidden] { display: none !important; }` so we also need the `!important` here to be able to override the default hidden behavior on the sphinx rendered scikit-learn.org. See: https://github.com/scikit-learn/scikit-learn/issues/21755 */display: inline-block !important;position: relative;}#sk-container-id-2 div.sk-text-repr-fallback {display: none;}</style><div id=\"sk-container-id-2\" class=\"sk-top-container\"><div class=\"sk-text-repr-fallback\"><pre>KNeighborsClassifier(n_neighbors=4, weights=&#x27;distance&#x27;)</pre><b>In a Jupyter environment, please rerun this cell to show the HTML representation or trust the notebook. <br />On GitHub, the HTML representation is unable to render, please try loading this page with nbviewer.org.</b></div><div class=\"sk-container\" hidden><div class=\"sk-item\"><div class=\"sk-estimator sk-toggleable\"><input class=\"sk-toggleable__control sk-hidden--visually\" id=\"sk-estimator-id-2\" type=\"checkbox\" checked><label for=\"sk-estimator-id-2\" class=\"sk-toggleable__label sk-toggleable__label-arrow\">KNeighborsClassifier</label><div class=\"sk-toggleable__content\"><pre>KNeighborsClassifier(n_neighbors=4, weights=&#x27;distance&#x27;)</pre></div></div></div></div></div>"
      ],
      "text/plain": [
       "KNeighborsClassifier(n_neighbors=4, weights='distance')"
      ]
     },
     "execution_count": 37,
     "metadata": {},
     "output_type": "execute_result"
    }
   ],
   "source": [
    "knn = KNeighborsClassifier(**grid_search.best_params_)\n",
    "knn.fit(X_train_extended, y_train_extended)"
   ]
  },
  {
   "cell_type": "code",
   "execution_count": 38,
   "id": "c48d98fa5f1185a9",
   "metadata": {
    "ExecuteTime": {
     "end_time": "2024-01-30T10:17:20.550044193Z",
     "start_time": "2024-01-30T10:15:18.568667191Z"
    },
    "collapsed": false
   },
   "outputs": [
    {
     "data": {
      "text/plain": [
       "0.9763"
      ]
     },
     "execution_count": 38,
     "metadata": {},
     "output_type": "execute_result"
    }
   ],
   "source": [
    "preds = knn.predict(X_test)\n",
    "accuracy_score(y_test, preds)"
   ]
  },
  {
   "cell_type": "code",
   "execution_count": 39,
   "id": "47ac19328cdb506e",
   "metadata": {
    "ExecuteTime": {
     "end_time": "2024-01-30T14:16:44.214383625Z",
     "start_time": "2024-01-30T14:16:42.057270947Z"
    },
    "collapsed": false
   },
   "outputs": [
    {
     "data": {
      "text/plain": [
       "['model.joblib']"
      ]
     },
     "execution_count": 39,
     "metadata": {},
     "output_type": "execute_result"
    }
   ],
   "source": [
    "import joblib\n",
    "joblib.dump(knn, 'model.joblib')"
   ]
  }
 ],
 "metadata": {
  "kernelspec": {
   "display_name": "Python 3",
   "language": "python",
   "name": "python3"
  },
  "language_info": {
   "codemirror_mode": {
    "name": "ipython",
    "version": 3
   },
   "file_extension": ".py",
   "mimetype": "text/x-python",
   "name": "python",
   "nbconvert_exporter": "python",
   "pygments_lexer": "ipython3",
   "version": "3.8.18"
  }
 },
 "nbformat": 4,
 "nbformat_minor": 5
}
